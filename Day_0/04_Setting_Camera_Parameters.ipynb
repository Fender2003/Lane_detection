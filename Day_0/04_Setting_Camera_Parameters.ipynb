from cv2 import cv2 as cv

cap = cv.VideoCapture(0)

# Getting Height and Width
print(cap.get(3)) # Width
print(cap.get(4)) # Height

# Setting Width and Height to a different value
cap.set(3, 1000) # Sets Width
cap.set(4, 800) # Sets Height


# Printing New Dimensions
print(cap.get(3))
print(cap.get(4))

while (cap.isOpened()):
    isSuccess, frame = cap.read()

    if isSuccess:
        grey = cv.cvtColor(frame, cv.COLOR_BGR2GRAY)
        cv.imshow('Video', grey)

        if ((cv.waitKey(1) & 0xFF) == ord('q')):
            break

cap.release()
cv.destroyAllWindows()